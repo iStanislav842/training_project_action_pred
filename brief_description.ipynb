{
 "cells": [
  {
   "cell_type": "markdown",
   "id": "61901ea5-4ae2-43de-b1e9-298ffaaea24d",
   "metadata": {},
   "source": [
    "### Файлы проекта:"
   ]
  },
  {
   "attachments": {},
   "cell_type": "markdown",
   "id": "5799dc54-6f62-4e23-a85f-2216e0b36fd6",
   "metadata": {},
   "source": [
    "  - pipe.py - скрипт обработки данных и паплайн для сервиса\n",
    "  - test_model.py - скрипт по тестированию полученной модели\n",
    "  - api.py - скрипт обработки get и post запросов\n",
    "  - data - папка для получаемых данных от отработки скрипта pipe.py\n",
    "  - test_0.json, test_1.json - файлы для тестирования модели, результаты 0 и 1\n",
    "  - missing_city.json вспомогательный файл для заполнения geo_city\n",
    "  - структура data:\n",
    "  ~ df_geo_city_loc_with_na.csv - файл с неполными данными по геолокациям,  \n",
    "  ~ df_geo_city_loc.csv - файл с полными данными по геолокациям, \n",
    "  ~ папка df_likelihood содержит генерируемые промежуточные файлы df_likelihood_*.csv с данными для дальнейшей обработки данных\n"
   ]
  },
  {
   "cell_type": "markdown",
   "id": "e6957480-6bd2-431b-bb30-bc4151ee1918",
   "metadata": {},
   "source": [
    "### Режимы работы:"
   ]
  },
  {
   "cell_type": "markdown",
   "id": "e964a571-1f39-4da7-aa3a-d7ae54d0f421",
   "metadata": {},
   "source": [
    "1. (при отсутствии файлов с данными) формирование вспомогательных файлов для построения модели\n",
    "2. (при наличии файлов с данными) проверка наличия файлов, формирование модели\n",
    "3. (при наличии модели) предсказание с помощью localhost web app"
   ]
  },
  {
   "cell_type": "markdown",
   "id": "cf78c0a4-804d-4434-a144-1eac8e106208",
   "metadata": {},
   "source": [
    "Краткое описание порядка работы скрипта pipe.py:\n",
    "1. чтение данных из исходных файлов\n",
    "2. удаление дубликатов в  df_ga_hits.hit_number\n",
    "3. объединение фреймов (left_on='session_id', right_on='session_id', how='inner')\n",
    "4. преобразование строковой целевой переменной в числовую 0/1\n",
    "5. удаление столбцов, не участвующих в дальнейшей модели\n",
    "6. генерация файла df_geo_city_loc_with_na.csv с помощью сервиса Nominatim (geo* в координаты)\n",
    "7. генерация файла df_geo_city_loc.csv с помощью ранее полученного файла и сервиса yandex\n",
    "8. генерация файлов df_likelihood_*.csv (вероятности достижения целевой переменной 1 для каждой категориальной переменной)\n",
    "9. пайплайн:\n",
    "   - преобразование типа данных, заполнение пропусков\n",
    "   - транформация столбцов geo\n",
    "   - трансформация столбца device_screen\n",
    "   - транформация столбцов utm*, device*\n",
    "   - обучение модели\n",
    "14. получение метрики модели\n",
    "15. запись полученной модели в файл data/hit_predict.pkl"
   ]
  },
  {
   "cell_type": "markdown",
   "id": "838a3dc0-6c9f-4bb9-8175-8b53bda71d4b",
   "metadata": {},
   "source": [
    "Краткое описание порядка работы скрипта test_model.py:\n",
    "1. скачивание полученной модели data/hit_predict.pkl\n",
    "2. тестирование предсказаний на файлах data/test_json_0.json и data/test_json_1.json"
   ]
  },
  {
   "cell_type": "markdown",
   "id": "ee9bd817-103c-4762-a067-9e83fe3ec7d1",
   "metadata": {},
   "source": [
    "Краткое описание работы скрипта main.py:\n",
    "1. обработка Get запроса на локальном хосте 127.0.0.1:8000/status - состояние \n",
    "2. обработка Get запроса на локальном хосте 127.0.0.1:8000/version - версия модели \n",
    "3. обработка Post запроса на локальном хосте 127.0.0.1:8000/predict - сервис предсказания \n",
    "по отдельному событию в числовом формате 0|1."
   ]
  },
  {
   "cell_type": "markdown",
   "id": "43defbfe-0eab-4f44-84af-d390419cba38",
   "metadata": {},
   "source": [
    "### Результаты:"
   ]
  },
  {
   "cell_type": "markdown",
   "id": "24bc73d4-3f66-4e6a-879a-2b4e521b5c33",
   "metadata": {},
   "source": [
    "#### полученные результаты метрик (evaluation, 5 folds):"
   ]
  },
  {
   "cell_type": "markdown",
   "id": "f91bc167-f586-448f-9c0c-9e351af73330",
   "metadata": {},
   "source": [
    "- для модели LogisticRegression(): ROC_AUC.mean=0.606 ROC_AUC.std =0.001\n",
    "- для модели RandomForestClassifier(): ROC_AUC.mean=0.759 ROC_AUC.std =0.001\n",
    "- для модели MLPClassifier(): ROC_AUC.mean=0.646 ROC_AUC.std =0.003"
   ]
  },
  {
   "cell_type": "markdown",
   "id": "af6202f4-874c-4a89-ab9a-90f65135bea8",
   "metadata": {},
   "source": [
    "#### лучшая модель на всей выборке:\n",
    "- на всей выборке RandomForestClassifier ROC AUC = 0.864\n",
    "- проверка: RandomForestClassifier(), 5 folds: ROC_AUC.mean=0.759 ROC_AUC.std =0.001"
   ]
  }
 ],
 "metadata": {
  "kernelspec": {
   "display_name": "Python 3 (ipykernel)",
   "language": "python",
   "name": "python3"
  },
  "language_info": {
   "codemirror_mode": {
    "name": "ipython",
    "version": 3
   },
   "file_extension": ".py",
   "mimetype": "text/x-python",
   "name": "python",
   "nbconvert_exporter": "python",
   "pygments_lexer": "ipython3",
   "version": "3.11.5"
  }
 },
 "nbformat": 4,
 "nbformat_minor": 5
}
